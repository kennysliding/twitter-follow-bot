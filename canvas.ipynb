{
 "cells": [
  {
   "cell_type": "code",
   "execution_count": 92,
   "metadata": {},
   "outputs": [],
   "source": [
    "from selenium import webdriver\n",
    "from selenium.webdriver.common.by import By\n",
    "from selenium.webdriver.support.ui import WebDriverWait\n",
    "from selenium.webdriver.support import expected_conditions as EC\n",
    "from selenium.webdriver.firefox.options import Options\n",
    "from time import sleep"
   ]
  },
  {
   "cell_type": "code",
   "execution_count": 93,
   "metadata": {},
   "outputs": [],
   "source": [
    "# set the settings\n",
    "driver_path = r\"./geckodriver\"\n",
    "headless = False"
   ]
  },
  {
   "cell_type": "code",
   "execution_count": 94,
   "metadata": {},
   "outputs": [],
   "source": [
    "# fetch the list of accounts to follow from follow.csv\n",
    "accounts = []\n",
    "with open('follow.csv', 'r') as f:\n",
    "    accounts = f.read().splitlines()[1:]"
   ]
  },
  {
   "cell_type": "code",
   "execution_count": 95,
   "metadata": {},
   "outputs": [
    {
     "name": "stderr",
     "output_type": "stream",
     "text": [
      "/var/folders/s2/s_4x93kn5rjf8m_62cvz1yc40000gn/T/ipykernel_80932/3085784110.py:4: DeprecationWarning: executable_path has been deprecated, please pass in a Service object\n",
      "  driver = webdriver.Firefox(options=options, executable_path=driver_path)\n"
     ]
    }
   ],
   "source": [
    "# init the driver\n",
    "options = Options()\n",
    "options.headless = headless\n",
    "driver = webdriver.Firefox(options=options, executable_path=driver_path)"
   ]
  },
  {
   "cell_type": "code",
   "execution_count": 96,
   "metadata": {},
   "outputs": [],
   "source": [
    "# login to twitter\n",
    "def login(env_file_path):\n",
    "    with open(env_file_path, 'r') as f:\n",
    "        env = f.read().splitlines()\n",
    "    driver.get(\"https://twitter.com/i/flow/login\")\n",
    "    sleep(3)\n",
    "    username_input = driver.find_element(By.XPATH, \"/html/body/div/div/div/div[1]/div/div/div/div/div/div/div[2]/div[2]/div/div/div[2]/div[2]/div/div/div/div[5]/label/div/div[2]/div/input\")\n",
    "    username_input.send_keys(env[0].split('=')[1])\n",
    "    submit_button = driver.find_element(By.XPATH, \"/html/body/div/div/div/div[1]/div/div/div/div/div/div/div[2]/div[2]/div/div/div[2]/div[2]/div/div/div/div[6]\")\n",
    "    submit_button.click()\n",
    "    sleep(3)\n",
    "    # bypass bot detection\n",
    "    try:\n",
    "        name_input = driver.find_element(By.XPATH, \"/html/body/div/div/div/div[1]/div/div/div/div/div/div/div[2]/div[2]/div/div/div[2]/div[2]/div[1]/div/div[2]/label/div/div[2]/div/input\")\n",
    "        name_input.send_keys(env[2].split('=')[1])\n",
    "        submit_button = driver.find_element(By.XPATH, \"/html/body/div/div/div/div[1]/div/div/div/div/div/div/div[2]/div[2]/div/div/div[2]/div[2]/div[2]/div/div/div/div/div\")\n",
    "        submit_button.click()\n",
    "        sleep(3)\n",
    "    except:\n",
    "        pass\n",
    "    password_input = driver.find_element(By.XPATH, \"/html/body/div/div/div/div[1]/div/div/div/div/div/div/div[2]/div[2]/div/div/div[2]/div[2]/div[1]/div/div/div[3]/div/label/div/div[2]/div[1]/input\")\n",
    "    password_input.send_keys(env[1].split('=')[1])\n",
    "    submit_button = driver.find_element(By.XPATH, \"/html/body/div/div/div/div[1]/div/div/div/div/div/div/div[2]/div[2]/div/div/div[2]/div[2]/div[2]/div/div[1]/div/div/div\")\n",
    "    submit_button.click()"
   ]
  },
  {
   "cell_type": "code",
   "execution_count": 97,
   "metadata": {},
   "outputs": [],
   "source": [
    "login(\".env\")\n",
    "sleep(2)"
   ]
  },
  {
   "cell_type": "code",
   "execution_count": 98,
   "metadata": {},
   "outputs": [],
   "source": [
    "# go to an account and follow\n",
    "def follow_account(account):\n",
    "    try:\n",
    "        driver.get(f\"https://twitter.com/{account}\")\n",
    "        sleep(5)\n",
    "        follow_button = None\n",
    "        try:\n",
    "            if not follow_button:\n",
    "                follow_button = driver.find_element(By.XPATH, \"/html/body/div[1]/div/div/div[2]/main/div/div/div/div[1]/div/div[2]/div/div/div/div/div[1]/div[2]/div[3]/div[1]\")\n",
    "        except:\n",
    "            pass\n",
    "        try:\n",
    "            if not follow_button:\n",
    "                follow_button = driver.find_element(By.XPATH, \"/html/body/div[1]/div/div/div[2]/main/div/div/div/div[1]/div/div[2]/div/div/div/div/div[1]/div[2]/div[2]/div[1]\")\n",
    "        except:\n",
    "            pass\n",
    "        follow_button.click()\n",
    "        print(f\"Followed {account}\")\n",
    "    except Exception as e:\n",
    "        print(e)\n",
    "        print(f\"Could not follow {account}\")"
   ]
  },
  {
   "cell_type": "code",
   "execution_count": 99,
   "metadata": {},
   "outputs": [
    {
     "name": "stdout",
     "output_type": "stream",
     "text": [
      "Followed 1inch\n",
      "Followed Tiny_Citizens\n",
      "Followed fenix360_net\n",
      "Followed Mansour080\n",
      "Followed DzygaViktoriya\n",
      "Followed woodyfx44\n",
      "Followed CoinMarketCap\n",
      "Followed 0xPolygon\n",
      "Followed solana\n",
      "Followed bruce_galloway1\n"
     ]
    }
   ],
   "source": [
    "for account in accounts:\n",
    "    follow_account(account)\n",
    "    sleep(2)"
   ]
  }
 ],
 "metadata": {
  "kernelspec": {
   "display_name": "Python 3.8.9 64-bit",
   "language": "python",
   "name": "python3"
  },
  "language_info": {
   "codemirror_mode": {
    "name": "ipython",
    "version": 3
   },
   "file_extension": ".py",
   "mimetype": "text/x-python",
   "name": "python",
   "nbconvert_exporter": "python",
   "pygments_lexer": "ipython3",
   "version": "3.8.9"
  },
  "orig_nbformat": 4,
  "vscode": {
   "interpreter": {
    "hash": "31f2aee4e71d21fbe5cf8b01ff0e069b9275f58929596ceb00d14d90e3e16cd6"
   }
  }
 },
 "nbformat": 4,
 "nbformat_minor": 2
}
